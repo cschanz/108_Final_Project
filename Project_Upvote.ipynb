{
 "cells": [
  {
   "cell_type": "markdown",
   "metadata": {},
   "source": [
    "# Introduction"
   ]
  },
  {
   "cell_type": "markdown",
   "metadata": {},
   "source": [
    "Our team decided that we would find the most popular movies on Reddit between 2017-2019, and analyze the most-voted upon movies from Reddit’s r/movies polls in order to determine what makes a movie popular on Reddit. Through this analysis, we hope to create a profile of the ultimate Reddit movie. \n"
   ]
  },
  {
   "cell_type": "markdown",
   "metadata": {},
   "source": [
    "# Team Members"
   ]
  },
  {
   "cell_type": "markdown",
   "metadata": {},
   "source": [
    "    Ahsan Bari - A13865703\n",
    "\n",
    "    Eric Daetz - A12717246\n",
    "\n",
    "    David Chiu - A14855099\n",
    "\n",
    "    Craig Schanz - A13573909\n"
   ]
  },
  {
   "cell_type": "markdown",
   "metadata": {},
   "source": [
    "# Research Question"
   ]
  },
  {
   "cell_type": "markdown",
   "metadata": {},
   "source": [
    "What makes a movie popular on websites like Reddit? Specifically, what factors make a movie garner attention from users on the internet, including international gross, winning an Academy Award, what genre the movie is a part of, and other related questions. Can a theoretical movie be produced to make the top 50 list on Reddit’s r/movies poll based off of the information of the top 50 movies currently there?"
   ]
  },
  {
   "cell_type": "markdown",
   "metadata": {},
   "source": [
    "# Background Research"
   ]
  },
  {
   "cell_type": "markdown",
   "metadata": {},
   "source": [
    "The movie industry in the last few years have produced more influential cultural changes than most other mediums in history. Movies create communities for people/fans to connect and relate to one another within their bubble. Movies like the Avengers and Harry Potter as well as nostalgic films being reproduced like The Incredibles have gained a cult-like following. The fervent demand for movies has caused an increase in movie production within the last decade as well as an increase in the quality of the movies. In this analysis we are hoping to find factors within popular movies that are recurring in other successful films, and if this trend can be replicated to create a hypothetical film that will be as popular, if not more so, than the films that our prediction is based on. Since we are basing our data off of Reddit posts and comments, it is important to keep in mind the demographics of the average Reddit user.\n",
    "\n",
    "According to a Pew study done on Reddit users, about 67 percent of users are men. 22 percent of users are within ages 18-29, 34 percent are within the ages of 30-59, 25 percent of users are 50-64 and only 19 percent of users are over the age of 65. It is possible that this data is also skewed because it does not include users under the age of 18, but the site is Child Online Privacy & Protection Act (COPPA) compliant and requires all its users to be over the age of 13. Reddit reported in early 2017 that 54 percent of users are within the United States, the U.K is behind the U.S at 7.4 percent and Canada in third at 6.3 percent of users.  Although we aren’t specifically focusing on movie profitability, we found research on how various factors in a movie’s development and release impact profitability and decided to model some aspects of our experiment on the research conducted by Karl Wallström and Mark Wahlgren in 2018. For example, we kept the scope of our timeframe limited to only a few years, 2017-2019 (Wallström, Wahlgren, 5). We also decided to analyze factors such as creative types, movie genre, MPAA age rating, whether or not a movie is a sequel, and the source material from which the movie was derived (Wallström, Wahlgren, 25). \n",
    "\n",
    "However, the conclusions drawn by Wallström and Wahlgren focused largely on the distribution methods of movies being profitable, and how both aforementioned factors and the power and scope of distributors of movies influences both how they are released (streaming vs movie theater distribution) and their profitability. For instance, they concluded that big budget movies by well-established studios do well with traditional theater releases, while smaller studios are better off releasing on streaming services. In contrast, we are analyzing the popularity of these movies and how these factors that can determine profitability can also determine popularity. Reddit consistently highlights what its users find popular/trending. In analyzing Reddit user’s feedback and input we can have a reliable metric to determine what is popular and what is not.\n"
   ]
  },
  {
   "cell_type": "markdown",
   "metadata": {},
   "source": [
    "# Hypothesis"
   ]
  },
  {
   "cell_type": "markdown",
   "metadata": {},
   "source": [
    "Considering the recent popularity of films like Avengers: Endgame and Captain Marvel we are predicting that movies in the ‘Action’ genre rated PG-13 will be the most successful in being ranked within the top 50 movies on the Reddit r/movies poll. The Marvel Cinematic Universe has significantly impacted the ways that movies are marketed and produced. The MCU created a demand for plot driven movies with significant plot lines that creates an emotional attachment between fans and the plot. "
   ]
  },
  {
   "cell_type": "markdown",
   "metadata": {},
   "source": [
    "# Data"
   ]
  },
  {
   "cell_type": "markdown",
   "metadata": {},
   "source": [
    "Imports"
   ]
  },
  {
   "cell_type": "markdown",
   "metadata": {},
   "source": [
    "! pip install tmdbsimple"
   ]
  },
  {
   "cell_type": "code",
   "execution_count": null,
   "metadata": {},
   "outputs": [],
   "source": [
    "import pandas as pd\n",
    "import tmdbsimple as tmdb\n",
    "import numpy\n",
    "\n",
    "\n",
    "\n",
    "tmdb.API_KEY = 'e89550393e2861f05fdcc0ee49a1d875'\n",
    "\n",
    "\n",
    "#features available on https://pypi.org/project/tmdb3/"
   ]
  },
  {
   "cell_type": "code",
   "execution_count": null,
   "metadata": {
    "scrolled": false
   },
   "outputs": [],
   "source": [
    "#DON'T RUN THIS CELL UNLESS YOU WANT TO LEAVE IT ON FOREVER\n",
    "\n",
    "movie_list = pd.DataFrame()\n",
    "lst = []\n",
    "nonexist = []\n",
    "for i in range(10):     #get 10000000 movies and add them to movie_list (changed to 10 to make it runnable)\n",
    "    try:\n",
    "        response = tmdb.Movies(i).info()\n",
    "        if(response['release_date'] > '2017-01-01'):\n",
    "            lst.append(response)\n",
    "    except:\n",
    "        nonexist.append(i)\n",
    "        \n",
    "lst\n",
    "\n",
    "\n",
    "movie_list.append(lst)\n",
    "\n",
    "movie_list.to_csv('movieData108.csv')"
   ]
  },
  {
   "cell_type": "code",
   "execution_count": null,
   "metadata": {},
   "outputs": [],
   "source": [
    "movie_data = pd.read_csv('MovieData108.csv')\n",
    "\n",
    "\n",
    "movie_data['revenue'] = movie_data['domestic_box_office'] + movie_data['international_box_office']\n",
    "movie_data['profit'] = movie_data['revenue'] - movie_data['production_budget']\n",
    "movie_data = movie_data[['movie_name','production_year','production_budget','revenue', 'profit', 'genre', 'rating', 'sequel', 'creative_type', 'source']]\n"
   ]
  },
  {
   "cell_type": "markdown",
   "metadata": {},
   "source": [
    "# Ethical Considerations"
   ]
  },
  {
   "cell_type": "markdown",
   "metadata": {},
   "source": [
    " There were times where we had to modify the genre label for a movie from our primary sources due to the fact that genre classifications have variations between organizations, such as between IMDb and Wikipedia. Additionally, we had to condense instances of multiple subgenres into a single genre. When doing so, we ensured that we collapsed subgenres into existing genre categories (such as Thrillers being collapsed into the Horror genre). We realize that this may be an invalid operation for entire subgenres at times, and the choice to do so is inherently subjective and thereby subject to bias. For instance, we made the decision to collapse Black Comedy into Comedy rather than Horror, even though some movies categorized as Black Comedy may have had a simple majority of Horror aspects rather than Comedy aspects. Furthermore, there were a few cases where we manually collapsed Thriller movies (i.e. BlacKkKlansman) into the Drama category, which could further skew results. Even so, this decision was made because it would be more damaging to our possible inferences to have too many genres to draw linear regressions from, and having too many linear regression models could inflate Type I errors (where we find significant effects where there aren’t any).\n",
    "\n",
    "There are times where we had to choose a movie genre differently from our primary sources due to both categorization and disagreement of the classification when compared to the other two sources. (imDB and Wikipedia) Thrillers were also difficult to categorize, such as when The Numbers classified BlacKkKlansman and Glass as thrillers, which we would have had to group into our Horror category. In these cases, we settled for moving these movies to the Drama category, which may influence results. We used a free sample of movie data given to us by OpusData (The Numbers API) which we combined with the results of our loop through the TMDB API. Both these APIs granted us free access to their data. We also used https://youpoll.me/list/4/ to list the top movies from Reddit’s r/movies poll of top movies. Furthermore we had to use custom Python libraries to create DataFrames and workable CSVs, we used tmdbsimple by Celia Oakley. Additionally we are using Karl Wallstrom and Markus Wahlgren’s analysis on ‘What are the main factors affecting movie profitability?’ as a groundwork for how to proceed with our analysis. \n",
    "\n",
    "Our dataset is likely biased towards small, indie films because the data is mostly derived from Reddit comments and posts. Being a form of social media, most movies that are on the top 50 list are large-scale production movies. As a result of using reddit, it is likely that small-production films and indie movies are likely not mentioned in our data because those movies lack the marketing budget or popularity of large-scale movies. The reddit user base may also create a bias for certain types of movies being preferred over other. The average reddit user is male and somewhere between the ages of 24-39. The preferences of the average reddit user may be significantly different from observed metrics of movies. As a result, many of the movies observed in our dataset was in the ‘Action’ genre, suggestive of bias considering the amount of action movies released in a year to other genres like Drama or Comedy.  Our findings are being used very specifically, we are using our data to create a hypothetical movie that will make the Reddit r/movie’s top 50 list. This can perhaps be used to create a benchmark for movies to aspire to reach in their marketing/ production quality.\n"
   ]
  },
  {
   "cell_type": "code",
   "execution_count": null,
   "metadata": {},
   "outputs": [],
   "source": []
  }
 ],
 "metadata": {
  "kernelspec": {
   "display_name": "Python 3",
   "language": "python",
   "name": "python3"
  },
  "language_info": {
   "codemirror_mode": {
    "name": "ipython",
    "version": 3
   },
   "file_extension": ".py",
   "mimetype": "text/x-python",
   "name": "python",
   "nbconvert_exporter": "python",
   "pygments_lexer": "ipython3",
   "version": "3.6.7"
  }
 },
 "nbformat": 4,
 "nbformat_minor": 2
}
