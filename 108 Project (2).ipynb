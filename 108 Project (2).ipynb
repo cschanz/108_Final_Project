{
 "cells": [
  {
   "cell_type": "code",
   "execution_count": null,
   "metadata": {},
   "outputs": [],
   "source": [
    "! pip install tmdbsimple --user"
   ]
  },
  {
   "cell_type": "code",
   "execution_count": null,
   "metadata": {},
   "outputs": [],
   "source": [
    "import tmdbsimple as tmdb\n",
    "import pandas as pd\n",
    "tmdb.API_KEY = 'e89550393e2861f05fdcc0ee49a1d875'\n",
    "\n",
    "\n",
    "#features available on https://pypi.org/project/tmdb3/"
   ]
  },
  {
   "cell_type": "code",
   "execution_count": null,
   "metadata": {},
   "outputs": [],
   "source": [
    "search = tmdb.Search()\n",
    "response = search.movie(query = 'avengers')\n",
    "for s in search.results:\n",
    "    print(s['title'], s['release_date'], s['popularity'])\n",
    "    \n",
    "\n"
   ]
  },
  {
   "cell_type": "code",
   "execution_count": null,
   "metadata": {},
   "outputs": [],
   "source": [
    "movie = tmdb.Movies(315635)  #movie id from the past list\n",
    "'''\n",
    "we have to find a way to make loop through all the movies\n",
    "'''\n",
    "response = movie.info()\n",
    "\n",
    "print(movie.title)\n",
    "\n",
    "bud = movie.budget\n",
    "\n",
    "rev = movie.revenue\n",
    "\n",
    "profit = rev-bud\n",
    "\n",
    "profit\n"
   ]
  },
  {
   "cell_type": "code",
   "execution_count": null,
   "metadata": {
    "scrolled": false
   },
   "outputs": [],
   "source": [
    "#THIS CELL WILL TAKE 500000000000000 YEARS TO RUN BUT WILL ADD A MILLION MOVIES TO THE DATAFRAME\n",
    "#SHOULD PROBABLY RUN THIS OVERNIGHT\n",
    "\n",
    "movie_list = pd.DataFrame()\n",
    "nonexist = []\n",
    "for i in range(1000000):     #get 10000000 movies and add them to movie_list\n",
    "    try:\n",
    "        response = tmdb.Movies(i).info()\n",
    "        movie_list.append(response, ignore_index = True)\n",
    "    except:\n",
    "        nonexist.append(i)\n",
    "        print('%d does not exist' % i)"
   ]
  },
  {
   "cell_type": "code",
   "execution_count": null,
   "metadata": {},
   "outputs": [],
   "source": [
    "movie_list[315635]"
   ]
  },
  {
   "cell_type": "code",
   "execution_count": null,
   "metadata": {},
   "outputs": [],
   "source": []
  },
  {
   "cell_type": "code",
   "execution_count": null,
   "metadata": {},
   "outputs": [],
   "source": []
  }
 ],
 "metadata": {
  "kernelspec": {
   "display_name": "Python 3",
   "language": "python",
   "name": "python3"
  },
  "language_info": {
   "codemirror_mode": {
    "name": "ipython",
    "version": 3
   },
   "file_extension": ".py",
   "mimetype": "text/x-python",
   "name": "python",
   "nbconvert_exporter": "python",
   "pygments_lexer": "ipython3",
   "version": "3.6.7"
  }
 },
 "nbformat": 4,
 "nbformat_minor": 2
}
