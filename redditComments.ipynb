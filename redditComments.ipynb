{
 "cells": [
  {
   "cell_type": "code",
   "execution_count": 1,
   "metadata": {},
   "outputs": [],
   "source": [
    "import pandas as pd\n",
    "import json\n",
    "import zstandard as zstd"
   ]
  },
  {
   "cell_type": "code",
   "execution_count": null,
   "metadata": {},
   "outputs": [],
   "source": [
    "with open(\"RC_2019-03.zst\", 'rb') as fh:\n",
    "    dctx = zstd.ZstdDecompressor()\n",
    "    rd = pd.DataFrame()\n",
    "    with dctx.stream_reader(fh) as reader:\n",
    "        previous_line = \"\"\n",
    "        while True:\n",
    "            chunk = reader.read(65536)\n",
    "            if not chunk:\n",
    "                break\n",
    "\n",
    "            string_data = chunk.decode('utf-8') \n",
    "            lines = string_data.split(\"\\n\")\n",
    "            for i, line in enumerate(lines[:-1]):\n",
    "                if i == 0:\n",
    "                    line = previous_line + line\n",
    "                object = json.loads(line)\n",
    "                # do something with the object here\n",
    "                rd = rd.append(object, ignore_index = True)\n",
    "            previous_line = lines[-1]\n",
    "            \n",
    "    "
   ]
  },
  {
   "cell_type": "code",
   "execution_count": 13,
   "metadata": {},
   "outputs": [],
   "source": [
    "reddit = pd.read_csv('redditCommentsFirstRun.csv', dtype=object)"
   ]
  },
  {
   "cell_type": "code",
   "execution_count": 3,
   "metadata": {},
   "outputs": [
    {
     "data": {
      "text/plain": [
       "['Unnamed: 0',\n",
       " 'author',\n",
       " 'author_created_utc',\n",
       " 'author_flair_background_color',\n",
       " 'author_flair_css_class',\n",
       " 'author_flair_richtext',\n",
       " 'author_flair_template_id',\n",
       " 'author_flair_text',\n",
       " 'author_flair_text_color',\n",
       " 'author_flair_type',\n",
       " 'author_fullname',\n",
       " 'author_patreon_flair',\n",
       " 'body',\n",
       " 'can_gild',\n",
       " 'can_mod_post',\n",
       " 'collapsed',\n",
       " 'collapsed_reason',\n",
       " 'controversiality',\n",
       " 'created_utc',\n",
       " 'distinguished',\n",
       " 'edited',\n",
       " 'gilded',\n",
       " 'gildings',\n",
       " 'id',\n",
       " 'is_submitter',\n",
       " 'link_id',\n",
       " 'no_follow',\n",
       " 'parent_id',\n",
       " 'permalink',\n",
       " 'quarantined',\n",
       " 'removal_reason',\n",
       " 'retrieved_on',\n",
       " 'score',\n",
       " 'send_replies',\n",
       " 'stickied',\n",
       " 'subreddit',\n",
       " 'subreddit_id',\n",
       " 'subreddit_name_prefixed',\n",
       " 'subreddit_type',\n",
       " 'author_cakeday']"
      ]
     },
     "execution_count": 3,
     "metadata": {},
     "output_type": "execute_result"
    }
   ],
   "source": [
    "list(reddit)"
   ]
  },
  {
   "cell_type": "code",
   "execution_count": 4,
   "metadata": {},
   "outputs": [],
   "source": [
    "comments = reddit[['body','created_utc','score']].copy()\n",
    "avengers = ['avengers', 'iron man', 'thanos', 'captain america', 'hulk', 'thor']"
   ]
  },
  {
   "cell_type": "code",
   "execution_count": 18,
   "metadata": {
    "scrolled": true
   },
   "outputs": [],
   "source": []
  },
  {
   "cell_type": "code",
   "execution_count": 50,
   "metadata": {},
   "outputs": [
    {
     "data": {
      "text/html": [
       "<div>\n",
       "<style scoped>\n",
       "    .dataframe tbody tr th:only-of-type {\n",
       "        vertical-align: middle;\n",
       "    }\n",
       "\n",
       "    .dataframe tbody tr th {\n",
       "        vertical-align: top;\n",
       "    }\n",
       "\n",
       "    .dataframe thead th {\n",
       "        text-align: right;\n",
       "    }\n",
       "</style>\n",
       "<table border=\"1\" class=\"dataframe\">\n",
       "  <thead>\n",
       "    <tr style=\"text-align: right;\">\n",
       "      <th></th>\n",
       "      <th>body</th>\n",
       "      <th>created_utc</th>\n",
       "      <th>score</th>\n",
       "    </tr>\n",
       "  </thead>\n",
       "  <tbody>\n",
       "    <tr>\n",
       "      <th>32460</th>\n",
       "      <td>Exactly why I chose nova and captain marvel wi...</td>\n",
       "      <td>1551398926.0</td>\n",
       "      <td>1.0</td>\n",
       "    </tr>\n",
       "    <tr>\n",
       "      <th>45349</th>\n",
       "      <td>exactly this. My thought vs bucky was that ton...</td>\n",
       "      <td>1551399137.0</td>\n",
       "      <td>82.0</td>\n",
       "    </tr>\n",
       "  </tbody>\n",
       "</table>\n",
       "</div>"
      ],
      "text/plain": [
       "                                                    body   created_utc score\n",
       "32460  Exactly why I chose nova and captain marvel wi...  1551398926.0   1.0\n",
       "45349  exactly this. My thought vs bucky was that ton...  1551399137.0  82.0"
      ]
     },
     "execution_count": 50,
     "metadata": {},
     "output_type": "execute_result"
    }
   ],
   "source": [
    "comments.dropna(how='any')\n",
    "rel = comments[comments['body'].str.contains('bucky', na=False)]\n",
    "\n",
    "rel"
   ]
  },
  {
   "cell_type": "code",
   "execution_count": null,
   "metadata": {},
   "outputs": [],
   "source": []
  }
 ],
 "metadata": {
  "kernelspec": {
   "display_name": "Python 3",
   "language": "python",
   "name": "python3"
  },
  "language_info": {
   "codemirror_mode": {
    "name": "ipython",
    "version": 3
   },
   "file_extension": ".py",
   "mimetype": "text/x-python",
   "name": "python",
   "nbconvert_exporter": "python",
   "pygments_lexer": "ipython3",
   "version": "3.7.3"
  }
 },
 "nbformat": 4,
 "nbformat_minor": 2
}
