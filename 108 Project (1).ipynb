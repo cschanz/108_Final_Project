{
 "cells": [
  {
   "cell_type": "code",
   "execution_count": 61,
   "metadata": {},
   "outputs": [
    {
     "name": "stdout",
     "output_type": "stream",
     "text": [
      "\u001b[33mThe directory '/home/jovyan/.cache/pip/http' or its parent directory is not owned by the current user and the cache has been disabled. Please check the permissions and owner of that directory. If executing pip with sudo, you may want sudo's -H flag.\u001b[0m\r\n",
      "\u001b[33mThe directory '/home/jovyan/.cache/pip' or its parent directory is not owned by the current user and caching wheels has been disabled. check the permissions and owner of that directory. If executing pip with sudo, you may want sudo's -H flag.\u001b[0m\r\n",
      "Requirement already satisfied: tmdbsimple in /home/abari/.local/lib/python3.6/site-packages (2.2.0)\r\n",
      "Requirement already satisfied: requests in /opt/conda/lib/python3.6/site-packages (from tmdbsimple) (2.12.4)\r\n"
     ]
    }
   ],
   "source": [
    "! pip install tmdbsimple --user"
   ]
  },
  {
   "cell_type": "code",
   "execution_count": 62,
   "metadata": {},
   "outputs": [],
   "source": [
    "import tmdbsimple as tmdb\n",
    "tmdb.API_KEY = 'e89550393e2861f05fdcc0ee49a1d875'\n",
    "\n",
    "\n",
    "#features available on https://pypi.org/project/tmdb3/"
   ]
  },
  {
   "cell_type": "code",
   "execution_count": 63,
   "metadata": {},
   "outputs": [
    {
     "name": "stdout",
     "output_type": "stream",
     "text": [
      "Spider-Man 2002-05-01 21.739\n",
      "Spider-Man: Into the Spider-Verse 2018-12-07 76.4\n",
      "Spider-Man 3 2007-05-01 22.806\n",
      "Spider-Man: Homecoming 2017-07-05 20.664\n",
      "Spider-Man: Far from Home 2019-07-01 29.694\n",
      "The Amazing Spider-Man 2012-06-27 26.981\n",
      "Italian Spiderman 2007-11-08 1.92\n",
      "The Amazing Spider-Man 2 2014-04-16 24.228\n",
      "Spider-Man 2 2004-06-25 9.118\n",
      "Spiderman 1990-01-01 0.6\n",
      "Spider-Man Tech 2007-05-02 1.4\n",
      "Spider-Man vs. Doc Ock 2004-11-03 1.21\n",
      "The Amazing Spider-Man 1978-03-15 2.815\n",
      "Spider-Man: The Venom Saga 2005-06-07 2.619\n",
      "Once Upon a Time: The Super Heroes 2001-12-23 1.841\n",
      "Superman, Spiderman or Batman 2011-06-01 0.6\n",
      "Daredevil vs. Spider-Man 1994-11-19 1.859\n",
      "Spider-Man Strikes Back 1978-12-21 1.655\n",
      "Spider-Man 1969-01-01 0.6\n",
      "Spiderman: The Ultimate Villain Showdown 2002-08-11 0.6\n"
     ]
    }
   ],
   "source": [
    "search = tmdb.Search()\n",
    "response = search.movie(query = 'spiderman')\n",
    "for s in search.results:\n",
    "    print(s['title'], s['release_date'], s['popularity'])\n",
    "    \n",
    "\n"
   ]
  },
  {
   "cell_type": "code",
   "execution_count": 64,
   "metadata": {},
   "outputs": [
    {
     "name": "stdout",
     "output_type": "stream",
     "text": [
      "Spider-Man: Homecoming\n"
     ]
    },
    {
     "data": {
      "text/plain": [
       "705166924"
      ]
     },
     "execution_count": 64,
     "metadata": {},
     "output_type": "execute_result"
    }
   ],
   "source": [
    "movie = tmdb.Movies(315635)  #movie id from the past list\n",
    "'''\n",
    "we have to find a way to make loop through all the movies\n",
    "'''\n",
    "response = movie.info()\n",
    "\n",
    "print(movie.title)\n",
    "\n",
    "bud = movie.budget\n",
    "\n",
    "rev = movie.revenue\n",
    "\n",
    "profit = rev-bud\n",
    "\n",
    "profit\n"
   ]
  },
  {
   "cell_type": "code",
   "execution_count": 86,
   "metadata": {},
   "outputs": [
    {
     "ename": "TypeError",
     "evalue": "'int' object is not subscriptable",
     "output_type": "error",
     "traceback": [
      "\u001b[0;31m---------------------------------------------------------------------------\u001b[0m",
      "\u001b[0;31mTypeError\u001b[0m                                 Traceback (most recent call last)",
      "\u001b[0;32m<ipython-input-86-703f09620049>\u001b[0m in \u001b[0;36m<module>\u001b[0;34m()\u001b[0m\n\u001b[1;32m      5\u001b[0m \u001b[0maction\u001b[0m \u001b[0;34m=\u001b[0m \u001b[0;34m[\u001b[0m\u001b[0;34m]\u001b[0m\u001b[0;34m\u001b[0m\u001b[0;34m\u001b[0m\u001b[0m\n\u001b[1;32m      6\u001b[0m \u001b[0;32mfor\u001b[0m \u001b[0mi\u001b[0m \u001b[0;32min\u001b[0m \u001b[0mrange\u001b[0m\u001b[0;34m(\u001b[0m\u001b[0mlen\u001b[0m\u001b[0;34m(\u001b[0m\u001b[0mmovie_list\u001b[0m\u001b[0;34m)\u001b[0m\u001b[0;34m)\u001b[0m\u001b[0;34m:\u001b[0m\u001b[0;34m\u001b[0m\u001b[0;34m\u001b[0m\u001b[0m\n\u001b[0;32m----> 7\u001b[0;31m     \u001b[0;32mif\u001b[0m\u001b[0;34m(\u001b[0m\u001b[0mi\u001b[0m\u001b[0;34m[\u001b[0m\u001b[0;34m'genres'\u001b[0m\u001b[0;34m]\u001b[0m \u001b[0;34m==\u001b[0m \u001b[0;36m28\u001b[0m\u001b[0;34m)\u001b[0m\u001b[0;34m:\u001b[0m\u001b[0;34m\u001b[0m\u001b[0;34m\u001b[0m\u001b[0m\n\u001b[0m\u001b[1;32m      8\u001b[0m         \u001b[0maction\u001b[0m\u001b[0;34m.\u001b[0m\u001b[0mappend\u001b[0m\u001b[0;34m(\u001b[0m\u001b[0mi\u001b[0m\u001b[0;34m)\u001b[0m\u001b[0;34m\u001b[0m\u001b[0;34m\u001b[0m\u001b[0m\n",
      "\u001b[0;31mTypeError\u001b[0m: 'int' object is not subscriptable"
     ]
    }
   ],
   "source": [
    "movie_list = []\n",
    "for i in range(100000):     #get 1000000 movies and add them to movie_list\n",
    "    movie_list.append(tmdb.Movies(i))\n",
    "\n",
    "action = []\n",
    "for i in range(len(movie_list)):    #from movie_list we need to get all with genre: action --> id: 28\n",
    "    if(i['genres'] == 28):\n",
    "        action.append(i)"
   ]
  },
  {
   "cell_type": "code",
   "execution_count": null,
   "metadata": {},
   "outputs": [],
   "source": []
  }
 ],
 "metadata": {
  "kernelspec": {
   "display_name": "Python 3",
   "language": "python",
   "name": "python3"
  },
  "language_info": {
   "codemirror_mode": {
    "name": "ipython",
    "version": 3
   },
   "file_extension": ".py",
   "mimetype": "text/x-python",
   "name": "python",
   "nbconvert_exporter": "python",
   "pygments_lexer": "ipython3",
   "version": "3.6.7"
  }
 },
 "nbformat": 4,
 "nbformat_minor": 2
}
